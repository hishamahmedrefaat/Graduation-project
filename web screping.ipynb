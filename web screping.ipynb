{
  "nbformat": 4,
  "nbformat_minor": 0,
  "metadata": {
    "colab": {
      "provenance": [],
      "toc_visible": true
    },
    "kernelspec": {
      "name": "python3",
      "display_name": "Python 3"
    },
    "language_info": {
      "name": "python"
    }
  },
  "cells": [
    {
      "cell_type": "code",
      "execution_count": 1,
      "metadata": {
        "colab": {
          "base_uri": "https://localhost:8080/"
        },
        "id": "Cngd8wN3XyAo",
        "outputId": "bbe58660-b10a-491d-b21e-ffac8b6ba8b5"
      },
      "outputs": [
        {
          "output_type": "stream",
          "name": "stdout",
          "text": [
            "Data has been successfully written to car_info.csv\n"
          ]
        }
      ],
      "source": [
        "import requests\n",
        "from bs4 import BeautifulSoup\n",
        "import csv\n",
        "import time\n",
        "\n",
        "\n",
        "base_site_url = 'https://eg.hatla2ee.com/ar/car/toyota'\n",
        "\n",
        "pages_to_scrape = 50\n",
        "\n",
        "output_csv = 'car_info.csv'\n",
        "\n",
        "retry_limit = 5\n",
        "delay_factor = 1\n",
        "\n",
        "\n",
        "car_entries = []\n",
        "current_pg = 1\n",
        "\n",
        "\n",
        "while current_pg <= pages_to_scrape:\n",
        "    constructed_pg_url = f\"{base_site_url}/page/{current_pg}\"\n",
        "\n",
        "    attempt = 0\n",
        "    page_html_content = None\n",
        "    while attempt < retry_limit:\n",
        "        try:\n",
        "            page_response = requests.get(constructed_pg_url)\n",
        "            page_response.raise_for_status()\n",
        "            page_html_content = BeautifulSoup(page_response.content, 'html.parser')\n",
        "            break\n",
        "        except requests.exceptions.RequestException as error:\n",
        "            if attempt < retry_limit - 1:\n",
        "                time.sleep(delay_factor * (2 ** attempt))\n",
        "                attempt += 1\n",
        "            else:\n",
        "                print(f\"Unable to retrieve {constructed_pg_url}: {error}\")\n",
        "\n",
        "    if not page_html_content:\n",
        "        current_pg += 1\n",
        "        continue\n",
        "\n",
        "    car_blocks = page_html_content.select('div.newCarListUnit_wrap')\n",
        "    for car_block in car_blocks:\n",
        "        car_title = car_block.select_one('div.newCarListUnit_header a').get_text(strip=True)\n",
        "        car_model = car_block.select('div.newCarListUnit_metaTags span.newCarListUnit_metaLink')[1].get_text(strip=True)\n",
        "        car_paint = car_block.select_one('span.newCarListUnit_metaTag.mob_hidden').get_text(strip=True)\n",
        "        car_distance = \"\"\n",
        "        meta_data_tags = car_block.select('span.newCarListUnit_metaTag')\n",
        "        for meta_tag in meta_data_tags:\n",
        "            if \"كم\" in meta_tag.get_text():\n",
        "                car_distance = meta_tag.get_text(strip=True)\n",
        "                break\n",
        "        car_location = car_block.select('div.newCarListUnit_metaTags span.newCarListUnit_metaLink')[-1].get_text(strip=True)\n",
        "        car_date = car_block.select_one('div.otherData_Date span').get_text(strip=True)\n",
        "        car_cost = car_block.select_one('div.main_price a').get_text(strip=True)\n",
        "\n",
        "        car_entries.append({\n",
        "            'title': car_title,\n",
        "            'car_model_name': car_model,\n",
        "            'car_color': car_paint,\n",
        "            'car_mileage': car_distance,\n",
        "            'location': car_location,\n",
        "            'date': car_date,\n",
        "            'price': car_cost\n",
        "        })\n",
        "\n",
        "    if len(car_entries) >= 500:\n",
        "        break\n",
        "    current_pg += 1\n",
        "\n",
        "cars_data = car_entries[:500]\n",
        "\n",
        "\n",
        "with open(output_csv, mode='w', newline='', encoding='utf-8-sig') as csvfile:\n",
        "    csv_writer = csv.DictWriter(csvfile, fieldnames=['title', 'car_model_name', 'car_color', 'car_mileage', 'location', 'date', 'price'])\n",
        "    csv_writer.writeheader()\n",
        "    csv_writer.writerows(cars_data)\n",
        "\n",
        "print(f'Data has been successfully written to {output_csv}')\n"
      ]
    }
  ]
}